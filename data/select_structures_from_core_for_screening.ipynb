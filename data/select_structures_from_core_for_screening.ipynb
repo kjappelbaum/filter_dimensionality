{
 "cells": [
  {
   "cell_type": "markdown",
   "metadata": {},
   "source": [
    "# Select structures"
   ]
  },
  {
   "cell_type": "markdown",
   "metadata": {},
   "source": [
    "For the first iteration, we will use only structures from CoRE-ASR, hoping that this makes our lives a bit eaiser. \n",
    "\n",
    "We will also apply some additional filters like requiring carbons in the structure and dropping lanthanides and those for which our naive filters for clashing atoms report an error."
   ]
  },
  {
   "cell_type": "code",
   "execution_count": 1,
   "metadata": {},
   "outputs": [],
   "source": [
    "import os\n",
    "from pathlib import Path \n",
    "\n",
    "import pandas as pd \n",
    "import matplotlib.pyplot as plt \n",
    "%matplotlib inline \n",
    "\n",
    "from pymatgen import Structure"
   ]
  },
  {
   "cell_type": "code",
   "execution_count": 2,
   "metadata": {},
   "outputs": [],
   "source": [
    "df = pd.read_csv('2020-05-26-CORE_ASR.csv')"
   ]
  },
  {
   "cell_type": "code",
   "execution_count": 3,
   "metadata": {},
   "outputs": [
    {
     "data": {
      "text/html": [
       "<div>\n",
       "<style scoped>\n",
       "    .dataframe tbody tr th:only-of-type {\n",
       "        vertical-align: middle;\n",
       "    }\n",
       "\n",
       "    .dataframe tbody tr th {\n",
       "        vertical-align: top;\n",
       "    }\n",
       "\n",
       "    .dataframe thead th {\n",
       "        text-align: right;\n",
       "    }\n",
       "</style>\n",
       "<table border=\"1\" class=\"dataframe\">\n",
       "  <thead>\n",
       "    <tr style=\"text-align: right;\">\n",
       "      <th></th>\n",
       "      <th>density</th>\n",
       "      <th>vpa</th>\n",
       "      <th>packing fraction</th>\n",
       "      <th>0-norm</th>\n",
       "      <th>2-norm</th>\n",
       "      <th>3-norm</th>\n",
       "      <th>5-norm</th>\n",
       "      <th>7-norm</th>\n",
       "      <th>10-norm</th>\n",
       "      <th>MagpieData minimum Number</th>\n",
       "      <th>...</th>\n",
       "      <th>metal_metallic_radius</th>\n",
       "      <th>metal_metallic_radius_c12</th>\n",
       "      <th>metal_oxidation_states</th>\n",
       "      <th>metal_vdw_radius</th>\n",
       "      <th>name</th>\n",
       "      <th>clashing</th>\n",
       "      <th>unbound</th>\n",
       "      <th>hydrogens</th>\n",
       "      <th>cif_problem</th>\n",
       "      <th>planes</th>\n",
       "    </tr>\n",
       "  </thead>\n",
       "  <tbody>\n",
       "    <tr>\n",
       "      <th>0</th>\n",
       "      <td>1.648287</td>\n",
       "      <td>16.227836</td>\n",
       "      <td>0.124050</td>\n",
       "      <td>4</td>\n",
       "      <td>0.555556</td>\n",
       "      <td>0.480750</td>\n",
       "      <td>0.449949</td>\n",
       "      <td>0.445434</td>\n",
       "      <td>0.444531</td>\n",
       "      <td>1.0</td>\n",
       "      <td>...</td>\n",
       "      <td>118.0</td>\n",
       "      <td>127.0</td>\n",
       "      <td>[7, 6, 4, 3, 2]</td>\n",
       "      <td>205.0</td>\n",
       "      <td>/Users/kevinmaikjablonka/Dropbox (LSMO)/proj73...</td>\n",
       "      <td>False</td>\n",
       "      <td>False</td>\n",
       "      <td>True</td>\n",
       "      <td>False</td>\n",
       "      <td>['xz', 'xy', 'yz', 'xx', 'yy', 'zz']</td>\n",
       "    </tr>\n",
       "    <tr>\n",
       "      <th>1</th>\n",
       "      <td>0.517074</td>\n",
       "      <td>34.453372</td>\n",
       "      <td>0.033666</td>\n",
       "      <td>5</td>\n",
       "      <td>0.589921</td>\n",
       "      <td>0.524647</td>\n",
       "      <td>0.495390</td>\n",
       "      <td>0.489748</td>\n",
       "      <td>0.488099</td>\n",
       "      <td>1.0</td>\n",
       "      <td>...</td>\n",
       "      <td>118.0</td>\n",
       "      <td>128.0</td>\n",
       "      <td>[2, 1]</td>\n",
       "      <td>196.0</td>\n",
       "      <td>/Users/kevinmaikjablonka/Dropbox (LSMO)/proj73...</td>\n",
       "      <td>False</td>\n",
       "      <td>False</td>\n",
       "      <td>True</td>\n",
       "      <td>False</td>\n",
       "      <td>['xz', 'xy', 'yz', 'xx', 'yy', 'zz']</td>\n",
       "    </tr>\n",
       "    <tr>\n",
       "      <th>2</th>\n",
       "      <td>0.948963</td>\n",
       "      <td>25.380789</td>\n",
       "      <td>0.068103</td>\n",
       "      <td>3</td>\n",
       "      <td>0.677631</td>\n",
       "      <td>0.614911</td>\n",
       "      <td>0.581937</td>\n",
       "      <td>0.574422</td>\n",
       "      <td>0.571946</td>\n",
       "      <td>6.0</td>\n",
       "      <td>...</td>\n",
       "      <td>125.0</td>\n",
       "      <td>143.0</td>\n",
       "      <td>[3]</td>\n",
       "      <td>184.0</td>\n",
       "      <td>/Users/kevinmaikjablonka/Dropbox (LSMO)/proj73...</td>\n",
       "      <td>False</td>\n",
       "      <td>False</td>\n",
       "      <td>False</td>\n",
       "      <td>False</td>\n",
       "      <td>['xz', 'xy', 'yz']</td>\n",
       "    </tr>\n",
       "    <tr>\n",
       "      <th>3</th>\n",
       "      <td>1.729486</td>\n",
       "      <td>15.569487</td>\n",
       "      <td>0.138372</td>\n",
       "      <td>4</td>\n",
       "      <td>0.556290</td>\n",
       "      <td>0.472120</td>\n",
       "      <td>0.423111</td>\n",
       "      <td>0.407000</td>\n",
       "      <td>0.397075</td>\n",
       "      <td>1.0</td>\n",
       "      <td>...</td>\n",
       "      <td>134.0</td>\n",
       "      <td>144.0</td>\n",
       "      <td>[2, 1]</td>\n",
       "      <td>211.0</td>\n",
       "      <td>/Users/kevinmaikjablonka/Dropbox (LSMO)/proj73...</td>\n",
       "      <td>False</td>\n",
       "      <td>False</td>\n",
       "      <td>True</td>\n",
       "      <td>False</td>\n",
       "      <td>['xz', 'xy', 'yz', 'xx', 'yy', 'zz']</td>\n",
       "    </tr>\n",
       "    <tr>\n",
       "      <th>4</th>\n",
       "      <td>1.313768</td>\n",
       "      <td>17.926967</td>\n",
       "      <td>0.090857</td>\n",
       "      <td>5</td>\n",
       "      <td>0.533970</td>\n",
       "      <td>0.446212</td>\n",
       "      <td>0.393012</td>\n",
       "      <td>0.376139</td>\n",
       "      <td>0.367538</td>\n",
       "      <td>1.0</td>\n",
       "      <td>...</td>\n",
       "      <td>138.0</td>\n",
       "      <td>151.0</td>\n",
       "      <td>[2]</td>\n",
       "      <td>218.0</td>\n",
       "      <td>/Users/kevinmaikjablonka/Dropbox (LSMO)/proj73...</td>\n",
       "      <td>False</td>\n",
       "      <td>True</td>\n",
       "      <td>True</td>\n",
       "      <td>False</td>\n",
       "      <td>['xz', 'xy', 'yz']</td>\n",
       "    </tr>\n",
       "  </tbody>\n",
       "</table>\n",
       "<p>5 rows × 166 columns</p>\n",
       "</div>"
      ],
      "text/plain": [
       "    density        vpa  packing fraction  0-norm    2-norm    3-norm  \\\n",
       "0  1.648287  16.227836          0.124050       4  0.555556  0.480750   \n",
       "1  0.517074  34.453372          0.033666       5  0.589921  0.524647   \n",
       "2  0.948963  25.380789          0.068103       3  0.677631  0.614911   \n",
       "3  1.729486  15.569487          0.138372       4  0.556290  0.472120   \n",
       "4  1.313768  17.926967          0.090857       5  0.533970  0.446212   \n",
       "\n",
       "     5-norm    7-norm   10-norm  MagpieData minimum Number  ...  \\\n",
       "0  0.449949  0.445434  0.444531                        1.0  ...   \n",
       "1  0.495390  0.489748  0.488099                        1.0  ...   \n",
       "2  0.581937  0.574422  0.571946                        6.0  ...   \n",
       "3  0.423111  0.407000  0.397075                        1.0  ...   \n",
       "4  0.393012  0.376139  0.367538                        1.0  ...   \n",
       "\n",
       "   metal_metallic_radius  metal_metallic_radius_c12  metal_oxidation_states  \\\n",
       "0                  118.0                      127.0         [7, 6, 4, 3, 2]   \n",
       "1                  118.0                      128.0                  [2, 1]   \n",
       "2                  125.0                      143.0                     [3]   \n",
       "3                  134.0                      144.0                  [2, 1]   \n",
       "4                  138.0                      151.0                     [2]   \n",
       "\n",
       "   metal_vdw_radius                                               name  \\\n",
       "0             205.0  /Users/kevinmaikjablonka/Dropbox (LSMO)/proj73...   \n",
       "1             196.0  /Users/kevinmaikjablonka/Dropbox (LSMO)/proj73...   \n",
       "2             184.0  /Users/kevinmaikjablonka/Dropbox (LSMO)/proj73...   \n",
       "3             211.0  /Users/kevinmaikjablonka/Dropbox (LSMO)/proj73...   \n",
       "4             218.0  /Users/kevinmaikjablonka/Dropbox (LSMO)/proj73...   \n",
       "\n",
       "   clashing  unbound  hydrogens  cif_problem  \\\n",
       "0     False    False       True        False   \n",
       "1     False    False       True        False   \n",
       "2     False    False      False        False   \n",
       "3     False    False       True        False   \n",
       "4     False     True       True        False   \n",
       "\n",
       "                                 planes  \n",
       "0  ['xz', 'xy', 'yz', 'xx', 'yy', 'zz']  \n",
       "1  ['xz', 'xy', 'yz', 'xx', 'yy', 'zz']  \n",
       "2                    ['xz', 'xy', 'yz']  \n",
       "3  ['xz', 'xy', 'yz', 'xx', 'yy', 'zz']  \n",
       "4                    ['xz', 'xy', 'yz']  \n",
       "\n",
       "[5 rows x 166 columns]"
      ]
     },
     "execution_count": 3,
     "metadata": {},
     "output_type": "execute_result"
    }
   ],
   "source": [
    "df.head()"
   ]
  },
  {
   "cell_type": "code",
   "execution_count": 27,
   "metadata": {},
   "outputs": [],
   "source": [
    "from pathlib import Path"
   ]
  },
  {
   "cell_type": "code",
   "execution_count": 29,
   "metadata": {},
   "outputs": [],
   "source": [
    "df['refcode']= [Path(p).stem for p in df['name'].values]"
   ]
  },
  {
   "cell_type": "code",
   "execution_count": 16,
   "metadata": {},
   "outputs": [
    {
     "data": {
      "text/plain": [
       "[(0, 3), (8, 10), (9, 11)]"
      ]
     },
     "execution_count": 16,
     "metadata": {},
     "output_type": "execute_result"
    }
   ],
   "source": [
    "import ast\n",
    "import numpy as np\n",
    "ast.literal_eval(df['channel_indices'][0])"
   ]
  },
  {
   "cell_type": "code",
   "execution_count": 17,
   "metadata": {},
   "outputs": [
    {
     "name": "stderr",
     "output_type": "stream",
     "text": [
      "/Users/kevinmaikjablonka/opt/miniconda3/envs/metalchannel/lib/python3.7/site-packages/pymatgen/io/cif.py:1121: UserWarning: Issues encountered while parsing CIF: Some fractional co-ordinates rounded to ideal values to avoid issues with finite precision.\n",
      "  warnings.warn(\"Issues encountered while parsing CIF: %s\" % \"\\n\".join(self.warnings))\n"
     ]
    }
   ],
   "source": [
    "distances = []\n",
    "min_distances = []\n",
    "max_distannces = []\n",
    "mean_distances = []\n",
    "\n",
    "for i, row in df.iterrows(): \n",
    "    s = Structure.from_file(row['name'])\n",
    "    channel_indices = ast.literal_eval(row['channel_indices'])\n",
    "    \n",
    "    distances_in_mof = []\n",
    "    \n",
    "    for channel_pair in channel_indices:\n",
    "        d = s.get_distance(channel_pair[0], channel_pair[1])\n",
    "        distances_in_mof.append(d)\n",
    "        \n",
    "    distances.append(distances_in_mof)\n",
    "    min_distances.append(np.min(distances_in_mof))\n",
    "    max_distannces.append(np.max(distances_in_mof))\n",
    "    mean_distances.append(np.mean(distances_in_mof))\n",
    "\n",
    "        "
   ]
  },
  {
   "cell_type": "code",
   "execution_count": 19,
   "metadata": {},
   "outputs": [],
   "source": [
    "df['min_distances'] = min_distances"
   ]
  },
  {
   "cell_type": "code",
   "execution_count": 21,
   "metadata": {},
   "outputs": [],
   "source": [
    "df['max_distances'] = max_distannces"
   ]
  },
  {
   "cell_type": "code",
   "execution_count": 22,
   "metadata": {},
   "outputs": [],
   "source": [
    "df['mean_distances'] = mean_distances"
   ]
  },
  {
   "cell_type": "code",
   "execution_count": 30,
   "metadata": {},
   "outputs": [],
   "source": [
    "df.to_csv('core_data.csv', index=False)"
   ]
  },
  {
   "cell_type": "code",
   "execution_count": 7,
   "metadata": {},
   "outputs": [],
   "source": [
    "s  = Structure.from_file(df['name'][0])"
   ]
  },
  {
   "cell_type": "code",
   "execution_count": 4,
   "metadata": {},
   "outputs": [
    {
     "data": {
      "text/plain": [
       "1305"
      ]
     },
     "execution_count": 4,
     "metadata": {},
     "output_type": "execute_result"
    }
   ],
   "source": [
    "len(df)"
   ]
  },
  {
   "cell_type": "markdown",
   "metadata": {},
   "source": [
    "... which is maybe a bit over one-tenth of the full CoRE-ASR database."
   ]
  },
  {
   "cell_type": "code",
   "execution_count": 5,
   "metadata": {},
   "outputs": [
    {
     "data": {
      "text/plain": [
       "0"
      ]
     },
     "execution_count": 5,
     "metadata": {},
     "output_type": "execute_result"
    }
   ],
   "source": [
    "len(df[df['clashing']==True]['name'].values)"
   ]
  },
  {
   "cell_type": "code",
   "execution_count": 6,
   "metadata": {},
   "outputs": [
    {
     "data": {
      "text/plain": [
       "133"
      ]
     },
     "execution_count": 6,
     "metadata": {},
     "output_type": "execute_result"
    }
   ],
   "source": [
    "len(df[df['unbound']==True]['name'].values)"
   ]
  },
  {
   "cell_type": "markdown",
   "metadata": {},
   "source": [
    "## Drop those with _charged or _ion in name"
   ]
  },
  {
   "cell_type": "code",
   "execution_count": 7,
   "metadata": {},
   "outputs": [],
   "source": [
    "df_cleaned = df[[(('ion' not in v) and ('charged' not in v)) for v in  df['name'].values]]"
   ]
  },
  {
   "cell_type": "code",
   "execution_count": 8,
   "metadata": {},
   "outputs": [
    {
     "data": {
      "text/plain": [
       "1254"
      ]
     },
     "execution_count": 8,
     "metadata": {},
     "output_type": "execute_result"
    }
   ],
   "source": [
    "len(df_cleaned)"
   ]
  },
  {
   "cell_type": "markdown",
   "metadata": {},
   "source": [
    "## We do not have patience for too many f electrons"
   ]
  },
  {
   "cell_type": "code",
   "execution_count": 9,
   "metadata": {},
   "outputs": [
    {
     "name": "stderr",
     "output_type": "stream",
     "text": [
      "/Users/kevinmaikjablonka/opt/miniconda3/envs/metalchannel/lib/python3.7/site-packages/ipykernel_launcher.py:1: SettingWithCopyWarning: \n",
      "A value is trying to be set on a copy of a slice from a DataFrame.\n",
      "Try using .loc[row_indexer,col_indexer] = value instead\n",
      "\n",
      "See the caveats in the documentation: https://pandas.pydata.org/pandas-docs/stable/user_guide/indexing.html#returning-a-view-versus-a-copy\n",
      "  \"\"\"Entry point for launching an IPython kernel.\n",
      "/Users/kevinmaikjablonka/opt/miniconda3/envs/metalchannel/lib/python3.7/site-packages/ipykernel_launcher.py:2: SettingWithCopyWarning: \n",
      "A value is trying to be set on a copy of a slice from a DataFrame.\n",
      "Try using .loc[row_indexer,col_indexer] = value instead\n",
      "\n",
      "See the caveats in the documentation: https://pandas.pydata.org/pandas-docs/stable/user_guide/indexing.html#returning-a-view-versus-a-copy\n",
      "  \n"
     ]
    }
   ],
   "source": [
    "df_cleaned['is_lanthanid'] = (df_cleaned['metal_mendeelev_number'] >= 57) & (df_cleaned['metal_mendeelev_number'] <= 71)\n",
    "df_cleaned['is_actinid'] = (df_cleaned['metal_mendeelev_number'] >= 89) "
   ]
  },
  {
   "cell_type": "code",
   "execution_count": 10,
   "metadata": {},
   "outputs": [],
   "source": [
    "df_clean = df_cleaned[(~df_cleaned['is_lanthanid']) & (~df_cleaned['is_actinid'])] "
   ]
  },
  {
   "cell_type": "markdown",
   "metadata": {},
   "source": [
    "## Now, we use a quite crude heuristic, we require that 'C' and 'H' is in the MOF"
   ]
  },
  {
   "cell_type": "markdown",
   "metadata": {},
   "source": [
    "From my experience, the constraint for having H in the structure is actually more restrictive. \n",
    "\n",
    "\n",
    "Also, let's just read and write the structures with pymatgen to make sure that this does not hinder our workflow too much."
   ]
  },
  {
   "cell_type": "code",
   "execution_count": 26,
   "metadata": {},
   "outputs": [],
   "source": [
    "import numpy as np"
   ]
  },
  {
   "cell_type": "code",
   "execution_count": 27,
   "metadata": {},
   "outputs": [
    {
     "name": "stderr",
     "output_type": "stream",
     "text": [
      "/Users/kevinmaikjablonka/opt/miniconda3/envs/metalchannel/lib/python3.7/site-packages/pymatgen/io/cif.py:1121: UserWarning: Issues encountered while parsing CIF: Some fractional co-ordinates rounded to ideal values to avoid issues with finite precision.\n",
      "  warnings.warn(\"Issues encountered while parsing CIF: %s\" % \"\\n\".join(self.warnings))\n"
     ]
    }
   ],
   "source": [
    "for i, row in df_clean.iterrows():\n",
    "    s = Structure.from_file(row['name'])\n",
    "    if (6 in s.atomic_numbers) and (1 in s.atomic_numbers):\n",
    "        if not any(57 < np.array(s.atomic_numbers)): \n",
    "            s.to('cif', os.path.join('rewritten_structures2', Path(row['name']).name))"
   ]
  },
  {
   "cell_type": "markdown",
   "metadata": {},
   "source": [
    "Let's see how many we got .."
   ]
  },
  {
   "cell_type": "code",
   "execution_count": 28,
   "metadata": {},
   "outputs": [],
   "source": [
    "from glob import glob"
   ]
  },
  {
   "cell_type": "code",
   "execution_count": 29,
   "metadata": {},
   "outputs": [],
   "source": [
    "all_cifs = glob('rewritten_structures2/*.cif')"
   ]
  },
  {
   "cell_type": "code",
   "execution_count": 30,
   "metadata": {},
   "outputs": [
    {
     "data": {
      "text/plain": [
       "496"
      ]
     },
     "execution_count": 30,
     "metadata": {},
     "output_type": "execute_result"
    }
   ],
   "source": [
    "len(all_cifs)"
   ]
  },
  {
   "cell_type": "markdown",
   "metadata": {},
   "source": [
    "### Let's batch the structures up to make stuff a bit more controlled."
   ]
  },
  {
   "cell_type": "code",
   "execution_count": 31,
   "metadata": {},
   "outputs": [],
   "source": [
    "N = 100\n",
    "import shutil\n",
    "def move_files(abs_dirname):\n",
    "    \"\"\"Move files into subdirectories. https://gist.github.com/zupo/5849843\"\"\"\n",
    "\n",
    "    files = [os.path.join(abs_dirname, f) for f in os.listdir(abs_dirname)]\n",
    "\n",
    "    i = 0\n",
    "    curr_subdir = None\n",
    "\n",
    "    for f in files:\n",
    "        # create new subdir if necessary\n",
    "        if i % N == 0:\n",
    "            subdir_name = os.path.join(abs_dirname, '{}'.format(int(i / N + 1)))\n",
    "            os.mkdir(subdir_name)\n",
    "            curr_subdir = subdir_name\n",
    "\n",
    "        # move file to current dir\n",
    "        f_base = os.path.basename(f)\n",
    "        shutil.move(f, os.path.join(subdir_name, f_base))\n",
    "        i += 1"
   ]
  },
  {
   "cell_type": "code",
   "execution_count": 32,
   "metadata": {},
   "outputs": [],
   "source": [
    "move_files('rewritten_structures2')"
   ]
  },
  {
   "cell_type": "code",
   "execution_count": 2,
   "metadata": {},
   "outputs": [],
   "source": [
    "ak"
   ]
  },
  {
   "cell_type": "code",
   "execution_count": 5,
   "metadata": {},
   "outputs": [
    {
     "ename": "NameError",
     "evalue": "name 'a' is not defined",
     "output_type": "error",
     "traceback": [
      "\u001b[0;31m---------------------------------------------------------------------------\u001b[0m",
      "\u001b[0;31mNameError\u001b[0m                                 Traceback (most recent call last)",
      "\u001b[0;32m<ipython-input-5-f2607838b621>\u001b[0m in \u001b[0;36m<module>\u001b[0;34m\u001b[0m\n\u001b[1;32m      1\u001b[0m \u001b[0;31m# Red Color\u001b[0m\u001b[0;34m\u001b[0m\u001b[0;34m\u001b[0m\u001b[0;34m\u001b[0m\u001b[0m\n\u001b[0;32m----> 2\u001b[0;31m \u001b[0mcolor1_rgb\u001b[0m \u001b[0;34m=\u001b[0m \u001b[0msRGBColor\u001b[0m\u001b[0;34m(\u001b[0m\u001b[0ma\u001b[0m\u001b[0;34m[\u001b[0m\u001b[0;36m0\u001b[0m\u001b[0;34m]\u001b[0m\u001b[0;34m)\u001b[0m\u001b[0;34m;\u001b[0m\u001b[0;34m\u001b[0m\u001b[0;34m\u001b[0m\u001b[0m\n\u001b[0m\u001b[1;32m      3\u001b[0m \u001b[0;34m\u001b[0m\u001b[0m\n\u001b[1;32m      4\u001b[0m \u001b[0;31m# Blue Color\u001b[0m\u001b[0;34m\u001b[0m\u001b[0;34m\u001b[0m\u001b[0;34m\u001b[0m\u001b[0m\n\u001b[1;32m      5\u001b[0m \u001b[0mcolor2_rgb\u001b[0m \u001b[0;34m=\u001b[0m \u001b[0msRGBColor\u001b[0m\u001b[0;34m(\u001b[0m\u001b[0mb\u001b[0m\u001b[0;34m[\u001b[0m\u001b[0;36m0\u001b[0m\u001b[0;34m]\u001b[0m\u001b[0;34m)\u001b[0m\u001b[0;34m;\u001b[0m\u001b[0;34m\u001b[0m\u001b[0;34m\u001b[0m\u001b[0m\n",
      "\u001b[0;31mNameError\u001b[0m: name 'a' is not defined"
     ]
    }
   ],
   "source": []
  },
  {
   "cell_type": "code",
   "execution_count": null,
   "metadata": {},
   "outputs": [],
   "source": []
  }
 ],
 "metadata": {
  "kernelspec": {
   "display_name": "Python [conda env:metalchannel]",
   "language": "python",
   "name": "conda-env-metalchannel-py"
  },
  "language_info": {
   "codemirror_mode": {
    "name": "ipython",
    "version": 3
   },
   "file_extension": ".py",
   "mimetype": "text/x-python",
   "name": "python",
   "nbconvert_exporter": "python",
   "pygments_lexer": "ipython3",
   "version": "3.7.6"
  }
 },
 "nbformat": 4,
 "nbformat_minor": 4
}
