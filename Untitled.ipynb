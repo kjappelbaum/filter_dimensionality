{
 "cells": [
  {
   "cell_type": "code",
   "execution_count": 32,
   "metadata": {},
   "outputs": [],
   "source": [
    "import pandas as pd\n",
    "import pickle\n",
    "import numpy as np\n",
    "import os\n",
    "import shutil\n",
    "import pymatgen as pmg\n",
    "import cube_tools"
   ]
  },
  {
   "cell_type": "markdown",
   "metadata": {},
   "source": [
    "##### first need a script that will separate the holes and electron cubes into separate directories"
   ]
  },
  {
   "cell_type": "code",
   "execution_count": 66,
   "metadata": {},
   "outputs": [],
   "source": [
    "cube_dir = \"output_data/charge_cubes/\"\n",
    "hole_dir =  cube_dir + \"holes/\"\n",
    "electron_dir =  cube_dir + \"electrons/\""
   ]
  },
  {
   "cell_type": "code",
   "execution_count": 67,
   "metadata": {
    "scrolled": true
   },
   "outputs": [],
   "source": [
    "# def move_cubes(row):\n",
    "#     cubes =  []\n",
    "#     for cube in os.listdir(cube_dir):\n",
    "#         if len(cubes) == 2:\n",
    "#             break\n",
    "#         if cube.endswith(\".cube\") and row['label'] in cube:\n",
    "#             cubes.append(cube)\n",
    "    \n",
    "#     a = [(cube.split(\"_\")[2], i) for (i, cube) in enumerate(cubes)]\n",
    "#     homo, index_h = min(a)\n",
    "#     lumo, index_e = max(a)\n",
    "    \n",
    "#     shutil.move(cube_dir+cubes[index_h], hole_dir+cubes[index_h])\n",
    "#     shutil.move(cube_dir+cubes[index_e], electron_dir+cubes[index_e])\n",
    "    \n",
    "#     return (hole_dir+cubes[index_h], electron_dir+cubes[index_e])"
   ]
  },
  {
   "cell_type": "code",
   "execution_count": 70,
   "metadata": {},
   "outputs": [],
   "source": [
    "# df = pd.read_pickle(\"df.pkl\")\n",
    "# df_ex = df[(df['label'] == \"yevwig01\")|(df['label']==\"witqib\")]\n",
    "# df_ex['charge_cubes'] = df_ex.apply(move_cubes, axis=1)\n",
    "# witqib = df_ex.iloc[0]\n",
    "# yevwig = df_ex.iloc[1]"
   ]
  },
  {
   "cell_type": "code",
   "execution_count": 71,
   "metadata": {},
   "outputs": [
    {
     "data": {
      "text/plain": [
       "('output_data/charge_cubes/holes/witqib_aiida-WFN_00420_1-1_l.cube',\n",
       " 'output_data/charge_cubes/electrons/witqib_aiida-WFN_00421_1-1_l.cube')"
      ]
     },
     "execution_count": 71,
     "metadata": {},
     "output_type": "execute_result"
    }
   ],
   "source": [
    "witqib['charge_cubes']"
   ]
  },
  {
   "cell_type": "markdown",
   "metadata": {},
   "source": [
    "### Each MOF has two charge cube files, one (the lower number one) being the hole, and the other (the higher number one) being the elelctron cube file. The steps here are as follows:\n",
    "1. square the cube files, store this into a new cube flle\n",
    "2. loop over all of the atoms associated with a) the metal clusters (i.e. the metals and their close coordination chemistry) and b) the ligands (i.e. the rest). In this loop integrate over some radius (to be determined, experimented with, but related to the bond length)"
   ]
  },
  {
   "cell_type": "code",
   "execution_count": 2,
   "metadata": {},
   "outputs": [
    {
     "name": "stdout",
     "output_type": "stream",
     "text": [
      "====== Squaring cube files ======\n",
      "2\n",
      "====== Writing output cubes as squareN.cube ======\n"
     ]
    }
   ],
   "source": [
    "### this makes a file called square.cube...\n",
    "cube_tools.square_cubes([cube_dir+\"yevwig01_aiida-WFN_00409_1-1_l.cube\"],2)"
   ]
  },
  {
   "cell_type": "code",
   "execution_count": 62,
   "metadata": {},
   "outputs": [],
   "source": []
  },
  {
   "cell_type": "code",
   "execution_count": 56,
   "metadata": {},
   "outputs": [
    {
     "data": {
      "text/plain": [
       "[(0, array([ 7.11022493, 10.58837373, 10.0235129 ])),\n",
       " (1, array([4.76865693, 0.62005355, 6.56788646])),\n",
       " (2, array([16.98993805, 10.62405543, 14.60547844])),\n",
       " (3, array([14.66300894,  0.62723477, 11.118581  ]))]"
      ]
     },
     "execution_count": 56,
     "metadata": {},
     "output_type": "execute_result"
    }
   ],
   "source": [
    "### now use pymatgen to get ids of metal clusters/ligands\n",
    "def get_metal_coordinates(row):\n",
    "    \n",
    "    s = pmg.Structure.from_file(row['relaxed_file'])\n",
    "    metal_coords = [(i, s.sites[i].coords) for \\\n",
    "              i in range(len(s)) if s.sites[i].specie.is_metal]\n",
    "    return metal_coords\n",
    "\n",
    "get_metal_coordinates(witqib)"
   ]
  },
  {
   "cell_type": "markdown",
   "metadata": {},
   "source": [
    "I think the strat here will be to divide all the cubes into 2 separate directories; one with only holes and one with only electrons. Then we can add a column in the df such that we have these files represented. THEN inside the function I'm about to create, we SQUARE the cube, USE the new file 'square.cube'and then either change the name of this cube to MOFNAME_square.cube or just delete after we use it it since we can easily get this information anyways (ce dernier would be better for space since cube files are big).\n",
    "- So, we'll have this cube file square.cube, then we use this as the input arguement to the integrate function\n",
    "- this should be relatively easy to complete on monday"
   ]
  },
  {
   "cell_type": "code",
   "execution_count": 76,
   "metadata": {
    "scrolled": true
   },
   "outputs": [
    {
     "name": "stdout",
     "output_type": "stream",
     "text": [
      "[ 8.04563653  7.7292281  -1.49497159] Zn\n",
      "0 Zn [ 8.04563653  7.7292281  -1.49497159] Zn\n",
      "[2.59210018 0.55338858 2.58013321] Zn\n",
      "1 Zn [2.59210018 0.55338858 2.58013321] Zn\n"
     ]
    }
   ],
   "source": [
    "\n",
    "\n",
    "### now using square.cube, we will loop thru atoms\n",
    "s = pmg.Structure.from_file(yevwig['relaxed_file'])\n",
    "\n",
    "metal_cluster_contribution = 0\n",
    "ligand_contribution = 0\n",
    "for i,atom in enumerate(s[:2]):\n",
    "    print(s.sites[i])\n",
    "    if is_in_metal_cluster(s.sites[i].specie):\n",
    "        print(i, s.sites[i].specie, atom)\n",
    "        ### here calculate integral, add to cluster_contribution\n",
    "    else:\n",
    "        print(':(')\n",
    "        ### here calculate integral, add to ligand_contribution\n",
    "        \n",
    "    ### next j'aurai besoin"
   ]
  },
  {
   "cell_type": "code",
   "execution_count": 193,
   "metadata": {},
   "outputs": [],
   "source": [
    "## faut créer un look-up table... i will try to do it by webscrapingg\n",
    "import pandas as pd # library for data analysis\n",
    "import requests # library to handle requests\n",
    "from bs4 import BeautifulSoup # library to parse HTML documents"
   ]
  },
  {
   "cell_type": "code",
   "execution_count": 192,
   "metadata": {},
   "outputs": [
    {
     "name": "stdout",
     "output_type": "stream",
     "text": [
      "Collecting beautifulsoup4\n",
      "  Using cached beautifulsoup4-4.9.3-py3-none-any.whl (115 kB)\n",
      "Collecting soupsieve>1.2; python_version >= \"3.0\"\n",
      "  Downloading soupsieve-2.2.1-py3-none-any.whl (33 kB)\n",
      "Installing collected packages: soupsieve, beautifulsoup4\n",
      "Successfully installed beautifulsoup4-4.9.3 soupsieve-2.2.1\n"
     ]
    }
   ],
   "source": [
    "# get the response in the form of html\n",
    "url_ar=\"https://medium.com/analytics-vidhya/web-scraping-a-wikipedia-table-into-a-dataframe-c52617e1f451\""
   ]
  },
  {
   "cell_type": "code",
   "execution_count": 210,
   "metadata": {},
   "outputs": [],
   "source": [
    "def is_near_metal(site, metals, cutoff=5):\n",
    "\n",
    "    s1 = site.coords\n",
    "\n",
    "    for metal in metals:\n",
    "        s2 = metal.coords\n",
    "        squared_dist = np.sum((s1-s2)**2, axis=0)\n",
    "        dist = np.sqrt(squared_dist)\n",
    "        return dist\n",
    "\n",
    "def is_in_metal_cluster(site, metals, cutoff=5):\n",
    "    if site.specie.is_metal:\n",
    "        return True\n",
    "    elif is_near_metal(site, metals) < cutoff: #### some work to do here... for check close to metal\n",
    "        return True\n",
    "    else: ## if we get here it's part of ze ligand\n",
    "        return False\n",
    "\n",
    "    \n",
    "    \n",
    "def get_hole_contribution(row):\n",
    "    \n",
    "    int_radius = .7 ### ~ half a carbon bond... to make dynamic later\n",
    "    metal_radius = 2.5\n",
    "    \n",
    "    ## square the hole cube file\n",
    "    c = cube_tools.cube(row['charge_cubes'][0])\n",
    "    c.square_cube()\n",
    "    \n",
    "    ### now using the square.cube, loop through atoms and integrate\n",
    "    s = pmg.Structure.from_file(row['relaxed_file'])\n",
    "    metal = [s.sites[i] for i in range(len(s)) if s.sites[i].specie.is_metal]\n",
    "    \n",
    "    metal_cluster_contribution = 0\n",
    "    ligand_contribution = 0\n",
    "    for i,atom in enumerate(s):\n",
    "        \n",
    "        contribution = c.cube_int_atom(i, 2*s.sites[i].specie.atomic_radius) \n",
    "\n",
    "        if is_in_metal_cluster(s.sites[i], metal):    \n",
    "            metal_cluster_contribution += contribution\n",
    "        else:\n",
    "            ligand_contribution += contribution\n",
    "    return (metal_cluster_contribution, ligand_contribution)\n",
    "\n",
    "\n",
    "\n",
    "def get_electron_contribution(row):\n",
    "    \n",
    "    int_radius = .7 ### ~ half a carbon bond... to make dynamic later\n",
    "    metal_radius = 2.5\n",
    "    \n",
    "    ## square the hole cube file\n",
    "    c = cube_tools.cube(row['charge_cubes'][1])\n",
    "    c.square_cube()\n",
    "    \n",
    "    ### now using the square.cube, loop through atoms and integrate\n",
    "    s = pmg.Structure.from_file(row['relaxed_file'])\n",
    "    metal = [s.sites[i] for i in range(len(s)) if s.sites[i].specie.is_metal]\n",
    "     \n",
    "    metal_cluster_contribution = 0\n",
    "    ligand_contribution = 0\n",
    "    for i,atom in enumerate(s):\n",
    "        \n",
    "        contribution = c.cube_int_atom(i, 2*s.sites[i].specie.atomic_radius) \n",
    "    \n",
    "        if is_in_metal_cluster(s.sites[i], metal):\n",
    "            metal_cluster_contribution += contribution\n",
    "        else:\n",
    "            ligand_contribution += contribution\n",
    "    return (metal_cluster_contribution, ligand_contribution)"
   ]
  },
  {
   "cell_type": "code",
   "execution_count": 211,
   "metadata": {},
   "outputs": [
    {
     "name": "stdout",
     "output_type": "stream",
     "text": [
      "2\n",
      "2\n",
      "----------------MOF 1:----------------\n",
      "Hole contribution:\n",
      "    metal clusters: 0.06807\n",
      "           ligands: 0.741\n",
      "Electron contribution:\n",
      "    metal clusters: 0.18545\n",
      "           ligands: 0.70283\n",
      "--------------------------------------\n",
      "2\n",
      "2\n",
      "----------------MOF 2:----------------\n",
      "Hole contribution:\n",
      "    metal clusters: 0.57701\n",
      "           ligands: 0.21785\n",
      "Electron contribution:\n",
      "    metal clusters: 0.11067\n",
      "           ligands: 0.4307\n",
      "--------------------------------------\n"
     ]
    }
   ],
   "source": [
    "yev_hole = get_hole_contribution(yevwig)\n",
    "yev_electron = get_electron_contribution(yevwig)\n",
    "\n",
    "print(\"----------------MOF 1:----------------\")\n",
    "print(f\"Hole contribution:\") \n",
    "print(f\"    metal clusters: {round(yev_hole[0], 5)}\")\n",
    "print(f\"           ligands: {round(yev_hole[1], 5)}\")\n",
    "print(f\"Electron contribution:\") \n",
    "print(f\"    metal clusters: {round(yev_electron[0], 5)}\")\n",
    "print(f\"           ligands: {round(yev_electron[1], 5)}\")\n",
    "print(\"--------------------------------------\")\n",
    "\n",
    "\n",
    "wit_hole = get_hole_contribution(witqib)\n",
    "wit_electron = get_electron_contribution(witqib)\n",
    "\n",
    "print(\"----------------MOF 2:----------------\")\n",
    "print(f\"Hole contribution:\") \n",
    "print(f\"    metal clusters: {round(wit_hole[0], 5)}\")\n",
    "print(f\"           ligands: {round(wit_hole[1], 5)}\")\n",
    "print(f\"Electron contribution:\") \n",
    "print(f\"    metal clusters: {round(wit_electron[0], 5)}\")\n",
    "print(f\"           ligands: {round(wit_electron[1], 5)}\")\n",
    "print(\"--------------------------------------\")"
   ]
  },
  {
   "cell_type": "code",
   "execution_count": 114,
   "metadata": {},
   "outputs": [
    {
     "name": "stdout",
     "output_type": "stream",
     "text": [
      "0.0\n",
      "9.891421056532316\n",
      "9.683428446529481\n",
      "7.210696574883675\n",
      "7.6925930317221365\n",
      "14.79234649380526\n",
      "16.53784647941705\n",
      "13.07310418526266\n",
      "3.0301577985579318\n",
      "7.409448461736624\n",
      "8.329925849600107\n",
      "6.955200178000729\n",
      "5.124229814145933\n",
      "5.310018237870243\n",
      "6.6265638241412805\n",
      "8.303814228293895\n",
      "5.9108023024903416\n",
      "9.123081089362792\n",
      "4.88296576811319\n",
      "5.214285573887006\n",
      "2.980586282524858\n",
      "9.488141481578337\n",
      "7.540153209347342\n",
      "9.426322370436177\n",
      "7.537223248382506\n",
      "8.282546842434867\n",
      "12.02962147916213\n",
      "5.52885026638122\n",
      "5.517315701588\n",
      "7.016544324050103\n",
      "10.309733302433084\n",
      "5.441694852147154\n",
      "8.335390851549782\n",
      "5.172355865090265\n",
      "4.735197184927422\n",
      "11.997882584352304\n",
      "7.849317679921887\n",
      "3.040163122323923\n",
      "4.9689001492799125\n",
      "10.418779612203538\n",
      "8.617287116384318\n",
      "13.02661068834449\n",
      "15.625706576935462\n",
      "13.139806605762484\n",
      "10.984010911919446\n",
      "10.661571200336459\n",
      "13.757343208145166\n",
      "14.888298521255626\n",
      "12.85854753760899\n",
      "15.849473925231544\n",
      "11.539062691711361\n",
      "10.04575508577998\n",
      "10.638660380985359\n",
      "12.910590352506766\n",
      "13.842855379885556\n",
      "15.965643846487078\n",
      "11.465916932169248\n",
      "13.148353743880444\n",
      "17.425609018878255\n",
      "12.893283105661691\n",
      "10.030614411938844\n",
      "12.571663840578069\n",
      "16.41831706535689\n",
      "12.670041053035687\n",
      "13.66569018797106\n",
      "9.799690500107369\n",
      "12.315596333133483\n",
      "17.752155635312356\n",
      "13.563853154466367\n",
      "8.57606702238118\n",
      "12.222042703172905\n",
      "16.86844612299971\n",
      "2.9980361171202885\n",
      "7.230485215047883\n",
      "7.509071039627259\n",
      "7.625673579056101\n",
      "4.3063705855358005\n",
      "6.129214656582114\n",
      "6.4842934122308895\n",
      "8.351518997102405\n",
      "4.827134963445757\n",
      "6.352060925330496\n",
      "5.573593907263069\n",
      "9.344351534554951\n",
      "4.285983084815241\n",
      "10.8944813543946\n",
      "5.899811670419563\n",
      "5.5594121303715545\n",
      "2.964585379486054\n",
      "8.487834818972066\n",
      "7.028643134067785\n",
      "8.986181081036571\n",
      "5.450607836456231\n",
      "10.389340995730537\n",
      "5.50530398174257\n",
      "5.898559879788196\n",
      "6.613441602601511\n",
      "8.613941791719176\n",
      "11.693086115015667\n",
      "5.893261370962249\n",
      "5.382547160877034\n",
      "7.966851813080848\n",
      "10.743786749152848\n",
      "5.855184962370964\n",
      "4.231112937624942\n",
      "8.753424370437743\n",
      "10.555184574791864\n",
      "6.72789962908427\n",
      "9.002357226783852\n",
      "4.329853367233302\n",
      "5.194037419593706\n",
      "11.735774550951884\n",
      "8.747492928788104\n",
      "3.0154400102018593\n",
      "5.320510629953772\n",
      "10.863948485299321\n",
      "2.8557061972177364\n",
      "8.49038970936999\n",
      "9.754129345152043\n",
      "7.155638990248937\n",
      "9.47432530954609\n",
      "12.310843973558658\n",
      "14.672554077540871\n",
      "14.085963564796643\n",
      "10.759746899960634\n",
      "10.971842144926818\n",
      "13.5851925565108\n",
      "15.030958208591358\n",
      "11.848756006917286\n",
      "10.176242891606705\n",
      "12.393274996260198\n",
      "16.23888062675047\n",
      "11.763170000732439\n",
      "17.234964714471598\n",
      "12.418301371726292\n",
      "9.648729907520378\n",
      "10.561479815419872\n",
      "12.246483046943817\n",
      "13.63697602496207\n",
      "15.634241527392433\n",
      "13.06631398833137\n",
      "16.278985336947358\n",
      "11.338608383122793\n",
      "10.870838063187163\n",
      "10.86073888775335\n",
      "13.429091404550688\n",
      "17.29930443055082\n",
      "12.983557963920996\n",
      "10.034653872614602\n",
      "13.121008765189629\n",
      "16.743281811498292\n",
      "12.866014731034076\n",
      "9.436327146420632\n",
      "13.695029574876692\n",
      "16.761284865204967\n",
      "13.200022909092908\n",
      "14.075628130807312\n",
      "9.27932770298366\n",
      "12.384917588670481\n",
      "17.63340224601042\n",
      "14.004793575313455\n",
      "8.588605128844495\n",
      "12.33953673734265\n",
      "17.14041844341876\n",
      "8.727533171223865\n",
      "13.626676846653064\n",
      "16.363191935227483\n",
      "13.292434018399996\n",
      "2.067320457509446\n",
      "8.323846121092496\n",
      "7.757956120707443\n",
      "7.9685952895596515\n",
      "9.772440122350012\n",
      "2.061384247941958\n",
      "6.278940428750211\n",
      "10.71092949560799\n",
      "9.367295940468301\n",
      "12.889530533400851\n",
      "14.700959244577977\n",
      "14.401177263230919\n",
      "14.643464512222863\n",
      "8.163971469198769\n",
      "12.650957644588393\n",
      "17.108782443924685\n",
      "5.544758339899015\n",
      "11.30595231513023\n",
      "6.264283888734837\n",
      "6.740317604878025\n",
      "6.580071801097728\n",
      "9.150599929012142\n",
      "4.755222699090319\n",
      "5.68454208273203\n",
      "1.9773127889125193\n",
      "9.510654212762056\n",
      "9.898826864130962\n",
      "8.15711545649509\n",
      "3.114021239919755\n",
      "7.543587746959679\n",
      "9.25141545677853\n",
      "6.793859861545901\n",
      "13.212234581477828\n",
      "16.804179592237286\n",
      "11.611421156737235\n",
      "11.373509070400454\n",
      "14.10410239474997\n",
      "15.022032309859217\n",
      "10.294960753066713\n",
      "11.526533332864572\n",
      "8.504170003397988\n",
      "14.28988537081849\n",
      "16.501861931751016\n",
      "13.841856573871091\n",
      "8.663507259798195\n",
      "13.124634383018781\n",
      "16.08935322829813\n",
      "13.01944835205177\n"
     ]
    }
   ],
   "source": [
    "s = pmg.Structure.from_file(yevwig['relaxed_file'])\n",
    "\n",
    "p1 = s.sites[0].coords\n",
    "\n",
    "for site in s.sites:\n",
    "    \n",
    "\n",
    "    p2 = site.coords\n",
    "\n",
    "    squared_dist = np.sum((p1-p2)**2, axis=0)\n",
    "    dist = np.sqrt(squared_dist)\n",
    "\n",
    "    print(dist)"
   ]
  },
  {
   "cell_type": "code",
   "execution_count": 150,
   "metadata": {},
   "outputs": [
    {
     "name": "stdout",
     "output_type": "stream",
     "text": [
      "2\n"
     ]
    },
    {
     "data": {
      "text/plain": [
       "0.00010963048539223067"
      ]
     },
     "execution_count": 150,
     "metadata": {},
     "output_type": "execute_result"
    }
   ],
   "source": [
    "s[1].specie.is_metal\n",
    "sq_cube = [\"square.cube\"]\n",
    "\n",
    "\n",
    "\n",
    "c = cube_tools"
   ]
  },
  {
   "cell_type": "code",
   "execution_count": 142,
   "metadata": {},
   "outputs": [
    {
     "name": "stdout",
     "output_type": "stream",
     "text": [
      "Integral around chosen atom is:  0.001896490\n"
     ]
    },
    {
     "data": {
      "text/plain": [
       "NoneType"
      ]
     },
     "execution_count": 142,
     "metadata": {},
     "output_type": "execute_result"
    }
   ],
   "source": [
    "cube_tools.cube_integrate_atom(sq_cube, 1, .7)"
   ]
  },
  {
   "cell_type": "code",
   "execution_count": 199,
   "metadata": {},
   "outputs": [
    {
     "data": {
      "text/plain": [
       "{-2: 1.7, 4: 0.51, 6: 0.43}"
      ]
     },
     "execution_count": 199,
     "metadata": {},
     "output_type": "execute_result"
    }
   ],
   "source": [
    "S = pmg.core.periodic_table.Element(\"S\")\n",
    "S.ionic_radii"
   ]
  },
  {
   "cell_type": "code",
   "execution_count": null,
   "metadata": {},
   "outputs": [],
   "source": []
  }
 ],
 "metadata": {
  "kernelspec": {
   "display_name": "Python 3",
   "language": "python",
   "name": "python3"
  },
  "language_info": {
   "codemirror_mode": {
    "name": "ipython",
    "version": 3
   },
   "file_extension": ".py",
   "mimetype": "text/x-python",
   "name": "python",
   "nbconvert_exporter": "python",
   "pygments_lexer": "ipython3",
   "version": "3.8.3"
  }
 },
 "nbformat": 4,
 "nbformat_minor": 4
}
